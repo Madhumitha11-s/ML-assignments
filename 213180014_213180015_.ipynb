{
 "cells": [
  {
   "cell_type": "markdown",
   "metadata": {
    "deletable": false,
    "editable": false,
    "nbgrader": {
     "cell_type": "markdown",
     "checksum": "2a747369b91572b4ada4e32643e31bca",
     "grade": false,
     "grade_id": "Title",
     "locked": true,
     "schema_version": 3,
     "solution": false,
     "task": false
    }
   },
   "source": [
    "#**EE769 Introduction to Machine Learning**\n",
    "\n",
    "#Assignment 1: Gradient Descent, Linear Regression, and Regularization\n",
    "\n",
    "\n",
    "**Template and Instructions**\n",
    "\n",
    "\n",
    "\n",
    "1. Up to two people can team up, but only one should submit, and both should understand the entire code.\n",
    "2. Every line of code should end in a comment explaining the line\n",
    "3. It is recommended to solve the assignment in Google Colab.\n",
    "Write your roll no.s separated by commas here: \n",
    "4. Write your names here: \n",
    "5. There are two parts to the assignment. In the Part 1, the code format has to be strictly followed to enable auto-grading. In the second part, you can be creative.\n",
    "6. **You can discuss with other groups or refer to the internet without being penalized, but you cannot copy their code and modify it. Write every line of code and comment on your own.**"
   ]
  },
  {
   "cell_type": "markdown",
   "metadata": {
    "deletable": false,
    "editable": false,
    "nbgrader": {
     "cell_type": "markdown",
     "checksum": "cae69541658b406d495bcffe0b7c0932",
     "grade": false,
     "grade_id": "cell-aa1aa8c8181f8810",
     "locked": true,
     "schema_version": 3,
     "solution": false,
     "task": false
    }
   },
   "source": [
    "#**Part 1 begins ...**\n",
    "**Instructions to be strictly followed:**\n",
    "\n",
    "1. Do not add any code cells or markdown cells until the end of this part. Especially, do not change the blocks that say \"TEST CASES, DO NOT CHANGE\"\n",
    "2. In all other cells only add code where it says \"CODE HERE\".\n",
    "3. If you encounter any raise NotImplementedError() calls you may comment them out.\n",
    "\n",
    "We cannot ensure correct grading if you change anything else, and you may be penalised for not following these instructions."
   ]
  },
  {
   "cell_type": "code",
   "execution_count": null,
   "metadata": {},
   "outputs": [],
   "source": []
  },
  {
   "cell_type": "markdown",
   "metadata": {
    "deletable": false,
    "editable": false,
    "nbgrader": {
     "cell_type": "markdown",
     "checksum": "0ecbf8e96219ab11b7716eaae61cb7f9",
     "grade": false,
     "grade_id": "cell-1e940101f37c7af2",
     "locked": true,
     "schema_version": 3,
     "solution": false,
     "task": false
    }
   },
   "source": [
    "## Import Statements"
   ]
  },
  {
   "cell_type": "code",
   "execution_count": 158,
   "metadata": {
    "deletable": false,
    "editable": false,
    "nbgrader": {
     "cell_type": "code",
     "checksum": "fe70877a859ee0a10e9d591778022f8a",
     "grade": false,
     "grade_id": "Import_Statements",
     "locked": true,
     "schema_version": 3,
     "solution": false,
     "task": false
    }
   },
   "outputs": [],
   "source": [
    "import numpy as np\n",
    "import pandas as pd\n",
    "from matplotlib import pyplot as plt\n"
   ]
  },
  {
   "cell_type": "markdown",
   "metadata": {
    "deletable": false,
    "editable": false,
    "nbgrader": {
     "cell_type": "markdown",
     "checksum": "e36a214573fc40f26b45e72215d61375",
     "grade": false,
     "grade_id": "Normalize_Title",
     "locked": true,
     "schema_version": 3,
     "solution": false,
     "task": false
    }
   },
   "source": [
    "## Normalize function \n",
    "\n"
   ]
  },
  {
   "cell_type": "code",
   "execution_count": 159,
   "metadata": {
    "deletable": false,
    "nbgrader": {
     "cell_type": "code",
     "checksum": "42293dda356d746ac19e9b6d81106261",
     "grade": false,
     "grade_id": "Normalize_Function",
     "locked": false,
     "schema_version": 3,
     "solution": true,
     "task": false
    }
   },
   "outputs": [],
   "source": [
    "def Normalize(X): # Output should be a normalized data matrix of the same dimension\n",
    "    '''\n",
    "    Normalize all columns of X using mean and standard deviation\n",
    "    '''\n",
    "    '''\n",
    "    Normalised X = (X - mean_µ)/ standard deviation_σ\n",
    "    '''\n",
    "  \n",
    "    µ = X.mean(axis=0)\n",
    "    σ = (np.abs(X).std(axis=0)) \n",
    "    z = (X - µ)/ σ\n",
    "\n",
    "    return z    \n",
    "    raise NotImplementedError()"
   ]
  },
  {
   "cell_type": "code",
   "execution_count": 160,
   "metadata": {
    "deletable": false,
    "editable": false,
    "nbgrader": {
     "cell_type": "code",
     "checksum": "7797dd606a68f028c945acd08850d108",
     "grade": true,
     "grade_id": "Normalize_Test",
     "locked": true,
     "points": 5,
     "schema_version": 3,
     "solution": false,
     "task": false
    }
   },
   "outputs": [],
   "source": [
    "'''\n",
    "TEST CASES, DO NOT CHANGE\n",
    "'''\n",
    "''' case 1 - 1 dimensional array'''\n",
    "#X=np.array([[1,2,3],[3,4,5],[7,8,9]])\n",
    "X1=np.array([1,2,3])\n",
    "np.testing.assert_array_almost_equal(Normalize(X1),np.array([-1.224,  0.      ,  1.224]),decimal=3)\n",
    "''' case 2 - 2 dimensional array'''\n",
    "X2=np.array([[4,7,6],[3,8,9],[5,11,10]])\n",
    "np.testing.assert_array_almost_equal(Normalize(X2),np.array([[ 0.  , -0.980581, -1.372813],[-1.224745, -0.392232,  0.392232],[ 1.224745,  1.372813,  0.980581]]))\n",
    "''' case 3 - 1 dimensional array with float'''\n",
    "X3=np.array([5.5,6.7,3.2,6.7])\n",
    "np.testing.assert_array_almost_equal(Normalize(X3),np.array([-0.017,  0.822, -1.627,  0.822]),decimal=3)"
   ]
  },
  {
   "cell_type": "markdown",
   "metadata": {
    "deletable": false,
    "editable": false,
    "nbgrader": {
     "cell_type": "markdown",
     "checksum": "63ee774a26a0438a0b2f5ec298eac80e",
     "grade": false,
     "grade_id": "cell-66ab98f84d3c58fa",
     "locked": true,
     "schema_version": 3,
     "solution": false,
     "task": false
    }
   },
   "source": [
    "## Prediction Function\n",
    "\n",
    "Given X and w, compute the predicted output. Do not forget to add 1's in X"
   ]
  },
  {
   "cell_type": "code",
   "execution_count": 161,
   "metadata": {
    "deletable": false,
    "nbgrader": {
     "cell_type": "code",
     "checksum": "5976e32bd96bc4bdc2b2efd61e98441c",
     "grade": false,
     "grade_id": "Prediction",
     "locked": false,
     "schema_version": 3,
     "solution": true,
     "task": false
    }
   },
   "outputs": [],
   "source": [
    "def Prediction (X, w): # Output should be a prediction vector y\n",
    "    '''\n",
    "    Compute Prediction given an input datamatrix X and weight vecor w. Output y = [X 1]w where 1 is a vector of all 1s \n",
    "    '''\n",
    "    # YOUR CODE HERE\n",
    "    \n",
    "    ones = np.ones(len(X)) #get m number of 1's for m x n 2D array \n",
    "    X = np.c_[X,ones] #add the 1's to the last column of 2D array \n",
    "    y = (np.dot(X,w))\n",
    "    \n",
    "    return y #return the prediction vector y\n",
    "    raise NotImplementedError()\n"
   ]
  },
  {
   "cell_type": "code",
   "execution_count": 162,
   "metadata": {
    "deletable": false,
    "editable": false,
    "nbgrader": {
     "cell_type": "code",
     "checksum": "741f088432fb2ac3c49d3c9711d5c9c5",
     "grade": true,
     "grade_id": "PredictionTest",
     "locked": true,
     "points": 5,
     "schema_version": 3,
     "solution": false,
     "task": false
    }
   },
   "outputs": [],
   "source": [
    "'''\n",
    "TEST CASES, DO NOT CHANGE\n",
    "'''\n",
    "''' case 1 - Known input output matrix and weights 1'''\n",
    "X1 = np.array([[3,2],[1,1]])\n",
    "w1 = np.array([2,1,1]) \n",
    "np.testing.assert_array_equal(Prediction(X1,w1),np.array([9,4]))\n"
   ]
  },
  {
   "cell_type": "markdown",
   "metadata": {
    "deletable": false,
    "editable": false,
    "nbgrader": {
     "cell_type": "markdown",
     "checksum": "227f6e0da2f8c6d631599c44041e3b65",
     "grade": false,
     "grade_id": "cell-6fda2832d5967072",
     "locked": true,
     "schema_version": 3,
     "solution": false,
     "task": false
    }
   },
   "source": [
    "## Loss Functions\n",
    "\n",
    "Code the four  loss functions:\n",
    "\n",
    "1. MSE loss is only for the error\n",
    "2. MAE loss is only for the error\n",
    "3. L2 loss is for MSE and L2 regularization, and can call MSE loss\n",
    "4. L1 loss is for MSE and L1 regularization, and can call MSE loss"
   ]
  },
  {
   "cell_type": "code",
   "execution_count": 163,
   "metadata": {
    "deletable": false,
    "nbgrader": {
     "cell_type": "code",
     "checksum": "2c3e17b8559f0dfdfecdc8d242aba152",
     "grade": false,
     "grade_id": "MSE_Loss",
     "locked": false,
     "schema_version": 3,
     "solution": true,
     "task": false
    }
   },
   "outputs": [],
   "source": [
    "def MSE_Loss (X, t, w, lamda =0): # Ouput should be a single number\n",
    "    '''\n",
    "    lamda=0 is a default argument to prevent errors if you pass lamda to a function that doesn't need it by mistake. \n",
    "    This allows us to call all loss functions with the same input format.\n",
    "    \n",
    "    You are encouraged read about default arguments by yourself online if you're not familiar.\n",
    "    '''\n",
    "    # YOUR CODE HERE\n",
    "    y = Prediction(X,w)\n",
    "    sqr_error = ((y - t)) ** 2\n",
    "    sum_of_sqr_error = np.sum(sqr_error)\n",
    "    MSE_loss = sum_of_sqr_error / t.size\n",
    "    \n",
    "    \n",
    "    return MSE_loss\n",
    "    \n",
    "    raise NotImplementedError()"
   ]
  },
  {
   "cell_type": "code",
   "execution_count": 164,
   "metadata": {
    "deletable": false,
    "editable": false,
    "nbgrader": {
     "cell_type": "code",
     "checksum": "923a1372a401b41d6ef6b0749a49ff66",
     "grade": true,
     "grade_id": "MSE_Loss_Test",
     "locked": true,
     "points": 2,
     "schema_version": 3,
     "solution": false,
     "task": false
    }
   },
   "outputs": [],
   "source": [
    "'''\n",
    "TEST CASES, DO NOT CHANGE\n",
    "'''\n",
    "''' case 1 '''\n",
    "X=np.array([[3,6,5],[4.5,6.6,6]])\n",
    "t=np.array([4,5.5])\n",
    "w=np.array([2,-1,0.5,1])\n",
    "np.testing.assert_almost_equal(MSE_Loss(X,t,w),0.53,decimal=3)\n"
   ]
  },
  {
   "cell_type": "code",
   "execution_count": 165,
   "metadata": {
    "deletable": false,
    "nbgrader": {
     "cell_type": "code",
     "checksum": "b0b3b381c7a3ac5d7dfbb5df647c0d85",
     "grade": false,
     "grade_id": "MAE_Loss",
     "locked": false,
     "schema_version": 3,
     "solution": true,
     "task": false
    }
   },
   "outputs": [],
   "source": [
    "def MAE_Loss (X, t, w, lamda = 0): # Output should be a single number\n",
    "    # YOUR CODE HERE\n",
    "    y = Prediction(X,w)\n",
    "    abs_diff = np.abs(y-t)\n",
    "    MAE_loss = np.mean(abs_diff)\n",
    "    return MAE_loss\n",
    "    raise NotImplementedError()"
   ]
  },
  {
   "cell_type": "code",
   "execution_count": 166,
   "metadata": {
    "deletable": false,
    "editable": false,
    "nbgrader": {
     "cell_type": "code",
     "checksum": "f11d5fde7220893a9809f2954d18c5e5",
     "grade": true,
     "grade_id": "MAE_Loss_Test",
     "locked": true,
     "points": 2,
     "schema_version": 3,
     "solution": false,
     "task": false
    }
   },
   "outputs": [],
   "source": [
    "'''\n",
    "TEST CASES, DO NOT CHANGE\n",
    "'''\n",
    "''' case 1 '''\n",
    "X=np.array([[3,6,5],[4.5,6.6,6]])\n",
    "t=np.array([4,5.5])\n",
    "w=np.array([2,-1,0.5,1])\n",
    "np.testing.assert_almost_equal(MAE_Loss(X,t,w),0.700,decimal=3)\n"
   ]
  },
  {
   "cell_type": "code",
   "execution_count": 167,
   "metadata": {
    "deletable": false,
    "nbgrader": {
     "cell_type": "code",
     "checksum": "a8309762ea56bb6b24bbbf4a19cb16bc",
     "grade": false,
     "grade_id": "L2_Loss",
     "locked": false,
     "schema_version": 3,
     "solution": true,
     "task": false
    }
   },
   "outputs": [],
   "source": [
    "def L2_Loss (X, t, w, lamda): # Output should be a single number based on L2-norm (with sqrt)\n",
    "    ''' Need to specify what inputs are'''\n",
    "    # YOUR CODE HERE\n",
    "    MSE = MSE_Loss(X,t,w)\n",
    "    w_without_bias = w[:-1]\n",
    "    l2norm = float(np.sqrt(np.sum(np.square(w_without_bias)))) # Finding L2 norm of the weight matrix\n",
    "    return(MSE + (lamda*l2norm))\n",
    "    raise NotImplementedError()"
   ]
  },
  {
   "cell_type": "code",
   "execution_count": 168,
   "metadata": {
    "deletable": false,
    "editable": false,
    "nbgrader": {
     "cell_type": "code",
     "checksum": "a5a409056f6797cdf8cbfab61b138c37",
     "grade": true,
     "grade_id": "L2_Loss_Test",
     "locked": true,
     "points": 2,
     "schema_version": 3,
     "solution": false,
     "task": false
    }
   },
   "outputs": [],
   "source": [
    "'''\n",
    "TEST CASES, DO NOT CHANGE\n",
    "'''\n",
    "''' case 1 '''\n",
    "X=np.array([[3,6,5],[4.5,6.6,6]])\n",
    "t=np.array([4,5.5])\n",
    "w=np.array([2,-1,0.5,1])\n",
    "np.testing.assert_almost_equal(L2_Loss(X,t,w,0.5),1.675,decimal=3)\n"
   ]
  },
  {
   "cell_type": "code",
   "execution_count": 169,
   "metadata": {
    "deletable": false,
    "nbgrader": {
     "cell_type": "code",
     "checksum": "1af69c123815524cdc71c72e09ece638",
     "grade": false,
     "grade_id": "L1_Loss",
     "locked": false,
     "schema_version": 3,
     "solution": true,
     "task": false
    }
   },
   "outputs": [],
   "source": [
    "def L1_Loss (X, t, w, lamda): # Output should be a single number\n",
    "    # YOUR CODE HERE\n",
    "    mes_loss = MSE_Loss (X, t, w, 0)\n",
    "    \n",
    "    w1 = np.abs(w)\n",
    "    n = w1.size \n",
    "    sum_w1 = w1.sum()\n",
    "    \n",
    "    \n",
    "    L1_loss = mes_loss + (sum_w1-w1[n-1])*lamda\n",
    "    \n",
    "    return (L1_loss)\n",
    "    raise NotImplementedError()"
   ]
  },
  {
   "cell_type": "code",
   "execution_count": 170,
   "metadata": {
    "deletable": false,
    "editable": false,
    "nbgrader": {
     "cell_type": "code",
     "checksum": "40224dd69dd8e6499a67271c33701bf4",
     "grade": true,
     "grade_id": "L1_Loss_Test",
     "locked": true,
     "points": 2,
     "schema_version": 3,
     "solution": false,
     "task": false
    }
   },
   "outputs": [],
   "source": [
    "'''\n",
    "TEST CASES, DO NOT CHANGE\n",
    "'''\n",
    "''' case 1 '''\n",
    "X=np.array([[3,6,5],[4.5,6.6,6]])\n",
    "t=np.array([4,5.5])\n",
    "w=np.array([2,-1,0.5,1])\n",
    "np.testing.assert_almost_equal(L1_Loss(X,t,w,0.5),2.280,decimal=3)\n"
   ]
  },
  {
   "cell_type": "code",
   "execution_count": 171,
   "metadata": {
    "deletable": false,
    "nbgrader": {
     "cell_type": "code",
     "checksum": "855bd2ded492e567b20f1d9705d9a97a",
     "grade": false,
     "grade_id": "NRMSE_Metric",
     "locked": false,
     "schema_version": 3,
     "solution": true,
     "task": false
    }
   },
   "outputs": [],
   "source": [
    "def NRMSE_Metric(X, t, w, lamda=0): # Output should be a single number. RMSE/std_dev(t)\n",
    "    # YOUR CODE HERE\n",
    "    y = Prediction (X, w)\n",
    "    sum_of_sq_dif = sum((y - t)*(y - t))\n",
    "    norm_sum_of_sq_dif = sum_of_sq_dif/t.size\n",
    "    srt_norm_sum_of_sq_dif = norm_sum_of_sq_dif ** 0.5\n",
    "    NRMSE = srt_norm_sum_of_sq_dif/np.std(t)\n",
    "    return NRMSE\n",
    "    \n",
    "    raise NotImplementedError()"
   ]
  },
  {
   "cell_type": "code",
   "execution_count": 172,
   "metadata": {
    "deletable": false,
    "editable": false,
    "nbgrader": {
     "cell_type": "code",
     "checksum": "256795799ceb6dfa0b32ab75e8ef30c4",
     "grade": true,
     "grade_id": "NRMSE_Metric_Test",
     "locked": true,
     "points": 2,
     "schema_version": 3,
     "solution": false,
     "task": false
    }
   },
   "outputs": [],
   "source": [
    "'''\n",
    "TEST CASES, DO NOT CHANGE\n",
    "'''\n",
    "''' Test case 1 '''\n",
    "X=np.array([[3,6,5],[4.5,6.6,6]])\n",
    "t=np.array([4,5.5])\n",
    "w=np.array([2,-1,0.5,1])\n",
    "np.testing.assert_almost_equal(NRMSE_Metric(X,t,w,0.5),0.970,decimal=3)\n"
   ]
  },
  {
   "cell_type": "markdown",
   "metadata": {
    "deletable": false,
    "editable": false,
    "nbgrader": {
     "cell_type": "markdown",
     "checksum": "cc5df30e29bbe17d4bc7aa89210eb5cf",
     "grade": false,
     "grade_id": "Gradient_Title",
     "locked": true,
     "schema_version": 3,
     "solution": false,
     "task": false
    }
   },
   "source": [
    "## Gradient function\n",
    "Each Loss function will have its own gradient function:\n",
    "\n",
    "1. MSE gradient is only for the error\n",
    "2. MAE gradient is only for the error\n",
    "3. L2 gradient is for MSE and L2 regularization, and can call MSE gradient\n",
    "4. L1 gradient is for MSE and L1 regularization, and can call MSE gradient"
   ]
  },
  {
   "cell_type": "code",
   "execution_count": 173,
   "metadata": {
    "deletable": false,
    "nbgrader": {
     "cell_type": "code",
     "checksum": "0190492ee216edce701f93e697572fc1",
     "grade": false,
     "grade_id": "MSE_Gradient",
     "locked": false,
     "schema_version": 3,
     "solution": true,
     "task": false
    }
   },
   "outputs": [],
   "source": [
    "def MSE_Gradient (X, t, w, lamda=0): # Output should have the same size as w\n",
    "    # YOUR CODE HERE\n",
    "    Y = Prediction(X,w)\n",
    "    \n",
    "    \n",
    "    Error = t - Y\n",
    "    Neg_Error = -1*(Error.reshape(X.shape[0],1))\n",
    "    \n",
    "    ones = np.ones(len(X)) #get m number of 1's for m x n 2D array \n",
    "    X = np.c_[X,ones] #add the 1's to the last column of 2D array \n",
    "\n",
    "    MSE_Gradient = (Neg_Error*X).sum(axis = 0)\n",
    "    \n",
    "    return MSE_Gradient\n",
    "\n",
    "    raise NotImplementedError()"
   ]
  },
  {
   "cell_type": "code",
   "execution_count": 174,
   "metadata": {
    "deletable": false,
    "editable": false,
    "nbgrader": {
     "cell_type": "code",
     "checksum": "d61466927592a8776a8bfa688472bad4",
     "grade": true,
     "grade_id": "MSE_Gradient_Test",
     "locked": true,
     "points": 3,
     "schema_version": 3,
     "solution": false,
     "task": false
    }
   },
   "outputs": [],
   "source": [
    "'''\n",
    "TEST CASES, DO NOT CHANGE\n",
    "'''\n",
    "''' case 1 '''\n",
    "X=np.array([[3,6,5],[4.5,6.6,6]])\n",
    "t=np.array([4,5.5])\n",
    "w=np.array([2,-1,0.5,1])\n",
    "np.testing.assert_array_almost_equal(MSE_Gradient(X,t,w),np.array([2.55, 2.94, 2.9 , 0.4 ]),decimal=3)\n"
   ]
  },
  {
   "cell_type": "code",
   "execution_count": 175,
   "metadata": {
    "deletable": false,
    "nbgrader": {
     "cell_type": "code",
     "checksum": "49cc4e37cafad52f41853b4b0e71f89f",
     "grade": false,
     "grade_id": "MAE_Gradient",
     "locked": false,
     "schema_version": 3,
     "solution": true,
     "task": false
    }
   },
   "outputs": [],
   "source": [
    "def MAE_Gradient (X, t, w, lamda=0): # Output should have the same size as w\n",
    "    # YOUR CODE HERE\n",
    "\n",
    "    n = t.size\n",
    "    ones = np.ones(len(X)) #get m number of 1's for m x n 2D array \n",
    "    X1 = np.c_[X,ones] #add the 1's to the last column of 2D array \n",
    "    t1 = t.reshape(t.shape[0],1)\n",
    "    w1 = w.reshape(w.shape[0],1)\n",
    "    Term = (t1-X1.dot(w1))\n",
    "    Temp = (np.where(Term>=0,X1,-X1))\n",
    "\n",
    "    MAE_Gradient = np.sum((-1/n)* Temp, axis = 0)\n",
    "    return(MAE_Gradient)\n",
    "    \n",
    "    raise NotImplementedError()"
   ]
  },
  {
   "cell_type": "code",
   "execution_count": 176,
   "metadata": {
    "deletable": false,
    "editable": false,
    "nbgrader": {
     "cell_type": "code",
     "checksum": "e1d418bf5351112ae8716877f8bb6359",
     "grade": true,
     "grade_id": "MAE_Gradient_Test",
     "locked": true,
     "points": 3,
     "schema_version": 3,
     "solution": false,
     "task": false
    }
   },
   "outputs": [],
   "source": [
    "'''\n",
    "TEST CASES, DO NOT CHANGE\n",
    "'''\n",
    "''' case 1 '''\n",
    "X=np.array([[3,6,5],[4.5,6.6,6]])\n",
    "t=np.array([4,5.5])\n",
    "w=np.array([2,-1,0.5,1])\n",
    "np.testing.assert_array_almost_equal(MAE_Gradient(X,t,w),np.array([0.75,  0.3 ,  0.5 , 0.]),decimal=3)\n"
   ]
  },
  {
   "cell_type": "code",
   "execution_count": 177,
   "metadata": {
    "deletable": false,
    "nbgrader": {
     "cell_type": "code",
     "checksum": "595829c0dd17df55a03d346fac507b4a",
     "grade": false,
     "grade_id": "L2_Gradient",
     "locked": false,
     "schema_version": 3,
     "solution": true,
     "task": false
    }
   },
   "outputs": [],
   "source": [
    "def L2_Gradient (X, t, w, lamda): # Output should have the same size as w\n",
    "    # YOUR CODE HERE\n",
    "    Mse_gradient = MSE_Gradient (X, t, w, lamda=0)\n",
    "    w1 = w[:-1]\n",
    "    temp = (lamda/np.sqrt((np.square(w1)).sum()))*w1\n",
    "    L2_gradient = Mse_gradient + (np.concatenate((temp, [0])))\n",
    "    return(L2_gradient)\n",
    "\n",
    "    raise NotImplementedError()"
   ]
  },
  {
   "cell_type": "code",
   "execution_count": 178,
   "metadata": {
    "deletable": false,
    "editable": false,
    "nbgrader": {
     "cell_type": "code",
     "checksum": "f292b42c3389b24e369234a7210b87bb",
     "grade": true,
     "grade_id": "L2_Gradient_Test",
     "locked": true,
     "points": 3,
     "schema_version": 3,
     "solution": false,
     "task": false
    }
   },
   "outputs": [],
   "source": [
    "'''\n",
    "TEST CASES, DO NOT CHANGE\n",
    "'''\n",
    "''' case 1 '''\n",
    "X=np.array([[3,6,5],[4.5,6.6,6]])\n",
    "t=np.array([4,5.5])\n",
    "w=np.array([2,-1,0.5,1])\n",
    "np.testing.assert_array_almost_equal(L2_Gradient(X,t,w,0.5),np.array([2.986, 2.721, 3.009 , 0.4 ]),decimal=3)\n"
   ]
  },
  {
   "cell_type": "code",
   "execution_count": 179,
   "metadata": {
    "deletable": false,
    "nbgrader": {
     "cell_type": "code",
     "checksum": "141736f1feda5aa225e008d749f0015c",
     "grade": false,
     "grade_id": "L1_Gradient",
     "locked": false,
     "schema_version": 3,
     "solution": true,
     "task": false
    }
   },
   "outputs": [],
   "source": [
    "def L1_Gradient (X, t, w, lamda): # Output should have the same size as w\n",
    "    # YOUR CODE HERE\n",
    "    Mse_grad = MSE_Gradient (X, t, w, lamda=0)\n",
    "    w_temp = w[0:len(w)-1]\n",
    "    l1_grad = (np.where(w_temp>=0,lamda,-lamda)) \n",
    "    print(l1_grad)\n",
    "    l1_grad = np.concatenate((l1_grad, [0]))\n",
    "\n",
    "    return (Mse_grad+l1_grad)\n",
    "\n",
    "    raise NotImplementedError()"
   ]
  },
  {
   "cell_type": "code",
   "execution_count": 180,
   "metadata": {},
   "outputs": [],
   "source": [
    "def L1_Gradient (X, t, w, lamda): # Output should have the same size as w\n",
    "    # YOUR CODE HERE\n",
    "    MSE_gradient = MSE_Gradient (X, t, w, lamda=0)\n",
    "    \n",
    "\n",
    "    temp = np.concatenate(((np.where(w[:-1]>=0,lamda,-lamda)) , [0]))\n",
    "    L1_gradient = MSE_gradient + temp\n",
    "\n",
    "    return (L1_gradient)\n",
    "\n",
    "    raise NotImplementedError()"
   ]
  },
  {
   "cell_type": "code",
   "execution_count": 181,
   "metadata": {
    "deletable": false,
    "editable": false,
    "nbgrader": {
     "cell_type": "code",
     "checksum": "9097b61320e470f429a9f46c7da0b219",
     "grade": true,
     "grade_id": "L1_Gradient_Test",
     "locked": true,
     "points": 3,
     "schema_version": 3,
     "solution": false,
     "task": false
    }
   },
   "outputs": [],
   "source": [
    "'''\n",
    "TEST CASES, DO NOT CHANGE\n",
    "'''\n",
    "''' case 1 '''\n",
    "X=np.array([[3,6,5],[4.5,6.6,6]])\n",
    "t=np.array([4,5.5])\n",
    "w=np.array([2,-1,0.5,1])\n",
    "np.testing.assert_array_almost_equal(L1_Gradient(X,t,w,0.5),np.array([3.05, 2.44, 3.4 , 0.4 ]),decimal=3)\n"
   ]
  },
  {
   "cell_type": "markdown",
   "metadata": {
    "deletable": false,
    "editable": false,
    "nbgrader": {
     "cell_type": "markdown",
     "checksum": "1980a2f831b5e1ddc9b510c22ef502c7",
     "grade": false,
     "grade_id": "Gradient_Desc_Title",
     "locked": true,
     "schema_version": 3,
     "solution": false,
     "task": false
    }
   },
   "source": [
    "## Gradient Descent Function\n"
   ]
  },
  {
   "cell_type": "code",
   "execution_count": 182,
   "metadata": {
    "deletable": false,
    "nbgrader": {
     "cell_type": "code",
     "checksum": "78cdd5ffa4590c10e19281722ccd537f",
     "grade": false,
     "grade_id": "Gradient_Descent",
     "locked": false,
     "schema_version": 3,
     "solution": true,
     "task": false
    }
   },
   "outputs": [],
   "source": [
    "def Gradient_Descent (X, X_val, t, t_val, w, lamda, max_iter, epsilon, lr, lossfunc, gradfunc): # See output format in 'return' statement\n",
    "    # YOUR CODE HERE\n",
    "    dif = 100\n",
    "    i = 0\n",
    "    \n",
    "\n",
    "    \n",
    "    for i in range(max_iter):\n",
    "        grad = gradfunc(X, t, w, lamda=lamda)\n",
    "        w = (w - (lr*grad))\n",
    "        \n",
    "      \n",
    "        \n",
    "        \n",
    "    validation_NRMSE_F = (NRMSE_Metric (X_val, t_val, w, lamda=0))\n",
    "    validation_L_F = (MSE_Loss (X_val, t_val, w, lamda =0))\n",
    "    train_L_F = (MSE_Loss (X, t, w, lamda =0))\n",
    "    w_F = w \n",
    "      \n",
    "    \n",
    "\n",
    "  \n",
    "       \n",
    "    return (w_F, train_L_F, validation_L_F, validation_NRMSE_F) #You should return variables structured like this.\n",
    "    raise NotImplementedError()\n",
    "    "
   ]
  },
  {
   "cell_type": "code",
   "execution_count": 183,
   "metadata": {
    "deletable": false,
    "editable": false,
    "nbgrader": {
     "cell_type": "code",
     "checksum": "15a67336bed20a51f33820bf615186e8",
     "grade": true,
     "grade_id": "Gradient_Check",
     "locked": true,
     "points": 20,
     "schema_version": 3,
     "solution": false,
     "task": false
    }
   },
   "outputs": [],
   "source": [
    "'''\n",
    "TEST CASES, DO NOT CHANGE\n",
    "'''\n",
    "X=np.array([[23,24],[1,2]])\n",
    "t=np.array([4,5])\n",
    "X_val=np.array([[3,4],[5,6]])\n",
    "t_val=np.array([3,4])\n",
    "w=np.array([3,2,1])\n",
    "results =Gradient_Descent (X, X_val, t, t_val, w, 0.1, 100, 1e-10, 1e-5, L2_Loss,L2_Gradient) \n",
    "np.testing.assert_allclose([results[1]],[697.919],rtol =0.05)\n",
    "np.testing.assert_allclose([results[2]],[20],atol=5) # we expect around 17.5  but some students got 24 which we will also accept\n",
    "#Instructor Values of results[1] and results [2] are 697.919 and 17.512 respectively"
   ]
  },
  {
   "cell_type": "markdown",
   "metadata": {
    "deletable": false,
    "editable": false,
    "nbgrader": {
     "cell_type": "markdown",
     "checksum": "24f327aa6a14590077f907ee8323724c",
     "grade": false,
     "grade_id": "PseudoInvTitle",
     "locked": true,
     "schema_version": 3,
     "solution": false,
     "task": false
    }
   },
   "source": [
    "## Pseudo Inverse Method\n",
    "\n",
    "You have to implement a slightly more advanced version, with L2 penalty:\n",
    "\n",
    "w = (X' X + lambda I)^(-1) X' t.\n",
    "\n",
    "See, for example: Section 2 of https://web.mit.edu/zoya/www/linearRegression.pdf\n",
    "\n",
    "Here, the column of 1's in assumed to be included in X"
   ]
  },
  {
   "cell_type": "code",
   "execution_count": 184,
   "metadata": {
    "deletable": false,
    "nbgrader": {
     "cell_type": "code",
     "checksum": "928c9b105c4bcf3c132c7520a140d509",
     "grade": false,
     "grade_id": "PseudoInv",
     "locked": false,
     "schema_version": 3,
     "solution": true,
     "task": false
    }
   },
   "outputs": [],
   "source": [
    "def Pseudo_Inverse (X, t, lamda): # Output should be weight vector\n",
    "    # YOUR CODE HERE\n",
    "    \n",
    "    n = t.size\n",
    "    ones = np.ones(len(X)) #get m number of 1's for m x n 2D array \n",
    "    X1 = np.c_[X,ones] #add the 1's to the last column of 2D array\n",
    "    w1 = w.reshape(w.shape[0],1)\n",
    "    t1 = t.reshape(t.shape[0],1)\n",
    "   \n",
    "    I = np.identity(X1.shape[1])\n",
    "    \n",
    "    XT = np.transpose(X1)\n",
    "    XT_X1 = (XT.dot(X1))\n",
    "    Lam_Indentity = (lamda*I)\n",
    "    \n",
    "    Lin_Alg  = np.linalg.pinv(XT_X1 + Lam_Indentity )\n",
    "    Pseudo_inverse = Lin_Alg.dot((XT).dot(t1)).flatten() \n",
    "    \n",
    "    return Pseudo_inverse\n",
    "    raise NotImplementedError()"
   ]
  },
  {
   "cell_type": "code",
   "execution_count": 185,
   "metadata": {
    "deletable": false,
    "editable": false,
    "nbgrader": {
     "cell_type": "code",
     "checksum": "a5178b8280650ed5d1d55dc6bbb38a29",
     "grade": true,
     "grade_id": "PseudoInvTest",
     "locked": true,
     "points": 10,
     "schema_version": 3,
     "solution": false,
     "task": false
    }
   },
   "outputs": [],
   "source": [
    "'''\n",
    "TEST CASES, DO NOT CHANGE\n",
    "'''\n",
    "''' case 1 - other data'''\n",
    "X=np.array([[3,6,5],[4.5,6.6,6]])\n",
    "t=np.array([4,5.5])\n",
    "np.testing.assert_array_almost_equal(Pseudo_Inverse(X,t,0.5),np.array([ 0.491,  0.183,  0.319, -0.002]),decimal=3)"
   ]
  },
  {
   "cell_type": "markdown",
   "metadata": {
    "deletable": false,
    "editable": false,
    "nbgrader": {
     "cell_type": "markdown",
     "checksum": "8748fcc0dc96df6e7bb48a4e315927d3",
     "grade": false,
     "grade_id": "cell-e0fa02d7eecfb851",
     "locked": true,
     "schema_version": 3,
     "solution": false,
     "task": false
    }
   },
   "source": [
    "#... Part 1 ends Below this you be more creative. Just comment out the lines where you save files (e.g. test predictions)."
   ]
  },
  {
   "cell_type": "markdown",
   "metadata": {
    "deletable": false,
    "editable": false,
    "nbgrader": {
     "cell_type": "markdown",
     "checksum": "c9047f75587bfee6b7b0a4b244efc7fa",
     "grade": false,
     "grade_id": "cell-10f0d275f5cd36f6",
     "locked": true,
     "schema_version": 3,
     "solution": false,
     "task": false
    }
   },
   "source": [
    "#**Part 2 begins ...**\n",
    "\n",
    "**Instructions to be loosely followed (except number 8):**\n",
    "\n",
    "1. Add more code and text cells between this and the last cell.\n",
    "2. Read training data from: https://www.ee.iitb.ac.in/~asethi/Dump/TempTrain.csv only. Do not use a local copy of the dataset.\n",
    "3. Find the best lamda for **MSE+lamda*L2(w)** loss function. Plot training and validation RMSE vs. 1/lamda (1/lamda represents model complexity). Print weights, validation RMSE, validation NRMSE for the best lamda.\n",
    "4. Find the best lamda for **MSE+lamda*L1(w)** loss function. Plot training and validation RMSE vs. 1/lamda (1/lamda represents model complexity). Print weights, validation RMSE, validation NRMSE for the best lamda.\n",
    "5. Find the best lamda for the **pseudo-inv method**. Plot training and validation RMSE vs. 1/lamda (1/lamda represents model complexity). Print weights, validation RMSE, validation NRMSE for the best lamda.\n",
    "6. Write your observations and conclusions.\n",
    "7. Read test data from: https://www.ee.iitb.ac.in/~asethi/Dump/TempTest.csv only. Do not use a local copy of the dataset. Predict its dependent (missing last column) using the model with the lowest MSE, RMSE, or NRMSE. Save it as a file RollNo1_RollNo2_1.csv.\n",
    "8. **Disable the prediction csv file saving statement and submit this entire .ipynb file, .py file, and .csv file as a single RollNo1_RollNo2_1.zip file.**\n"
   ]
  },
  {
   "cell_type": "markdown",
   "metadata": {
    "deletable": false,
    "editable": false,
    "nbgrader": {
     "cell_type": "markdown",
     "checksum": "de7f27538e4ad9db84b046b2752843f1",
     "grade": false,
     "grade_id": "cell-8a98f665f9567cec",
     "locked": true,
     "schema_version": 3,
     "solution": false,
     "task": false
    }
   },
   "source": [
    "#**... Part 2 ends.**\n",
    "\n",
    "1. Write the name or roll no.s of friends from outside your group with whom you discussed the assignment here (no penalty for mere discussion without copying code): \n",
    "2. Write the links of sources on the internet referred here (no penalty for mere consultation without copying code): "
   ]
  },
  {
   "cell_type": "code",
   "execution_count": 186,
   "metadata": {},
   "outputs": [],
   "source": [
    "dataset = pd.read_csv('https://www.ee.iitb.ac.in/~asethi/Dump/TempTrain.csv')\n"
   ]
  },
  {
   "cell_type": "code",
   "execution_count": 187,
   "metadata": {},
   "outputs": [],
   "source": [
    "dataset_1 = dataset\n",
    "r = dataset.shape[0]\n",
    "np.random.seed(101)\n",
    "df_val = dataset.iloc[list(np.random.randint(r, size=int(r*0.2)))]\n",
    "df = dataset.drop(list(np.random.randint(r, size=int(r*0.2))),axis=0)\n",
    "t = df[\"Next_Tmax\"].to_numpy()\n",
    "t_val = df_val[\"Next_Tmax\"].to_numpy()\n",
    "X = Normalize(df.drop([\"Next_Tmax\"], axis=1).to_numpy())\n",
    "X_val = Normalize(df_val.drop([\"Next_Tmax\"], axis=1).to_numpy())"
   ]
  },
  {
   "cell_type": "code",
   "execution_count": 157,
   "metadata": {},
   "outputs": [
    {
     "ename": "AttributeError",
     "evalue": "'list' object has no attribute 'reshape'",
     "output_type": "error",
     "traceback": [
      "\u001b[1;31m---------------------------------------------------------------------------\u001b[0m",
      "\u001b[1;31mAttributeError\u001b[0m                            Traceback (most recent call last)",
      "\u001b[1;32m<ipython-input-157-e6449b3aa7d3>\u001b[0m in \u001b[0;36m<module>\u001b[1;34m()\u001b[0m\n\u001b[0;32m      8\u001b[0m \u001b[1;33m\u001b[0m\u001b[0m\n\u001b[0;32m      9\u001b[0m \u001b[1;32mfor\u001b[0m \u001b[0mlamda\u001b[0m \u001b[1;32min\u001b[0m \u001b[0mLamda_temp\u001b[0m\u001b[1;33m:\u001b[0m\u001b[1;33m\u001b[0m\u001b[1;33m\u001b[0m\u001b[0m\n\u001b[1;32m---> 10\u001b[1;33m     \u001b[0mw_pseudo\u001b[0m \u001b[1;33m=\u001b[0m \u001b[0mPseudo_Inverse\u001b[0m\u001b[1;33m(\u001b[0m\u001b[0mX\u001b[0m\u001b[1;33m,\u001b[0m\u001b[0mt\u001b[0m\u001b[1;33m,\u001b[0m\u001b[0mlamda\u001b[0m\u001b[1;33m)\u001b[0m\u001b[1;33m\u001b[0m\u001b[1;33m\u001b[0m\u001b[0m\n\u001b[0m\u001b[0;32m     11\u001b[0m     \u001b[0mtrain_RMSE\u001b[0m\u001b[1;33m.\u001b[0m\u001b[0mappend\u001b[0m\u001b[1;33m(\u001b[0m\u001b[0mnp\u001b[0m\u001b[1;33m.\u001b[0m\u001b[0msqrt\u001b[0m\u001b[1;33m(\u001b[0m\u001b[0mMSE_Loss\u001b[0m \u001b[1;33m(\u001b[0m\u001b[0mX\u001b[0m\u001b[1;33m,\u001b[0m \u001b[0mt\u001b[0m\u001b[1;33m,\u001b[0m \u001b[0mw_pseudo\u001b[0m\u001b[1;33m,\u001b[0m \u001b[0mlamda\u001b[0m \u001b[1;33m=\u001b[0m\u001b[1;36m0\u001b[0m\u001b[1;33m)\u001b[0m\u001b[1;33m)\u001b[0m\u001b[1;33m)\u001b[0m\u001b[1;33m\u001b[0m\u001b[1;33m\u001b[0m\u001b[0m\n\u001b[0;32m     12\u001b[0m     \u001b[0mval_NRMSE\u001b[0m\u001b[1;33m.\u001b[0m\u001b[0mappend\u001b[0m\u001b[1;33m(\u001b[0m\u001b[0mNRMSE_Metric\u001b[0m\u001b[1;33m(\u001b[0m\u001b[0mX_val\u001b[0m\u001b[1;33m,\u001b[0m \u001b[0mt_val\u001b[0m\u001b[1;33m,\u001b[0m \u001b[0mw_pseudo\u001b[0m\u001b[1;33m,\u001b[0m \u001b[0mlamda\u001b[0m\u001b[1;33m=\u001b[0m\u001b[1;36m0\u001b[0m\u001b[1;33m)\u001b[0m\u001b[1;33m)\u001b[0m\u001b[1;33m\u001b[0m\u001b[1;33m\u001b[0m\u001b[0m\n",
      "\u001b[1;32m<ipython-input-40-fc6d676efa2e>\u001b[0m in \u001b[0;36mPseudo_Inverse\u001b[1;34m(X, t, lamda)\u001b[0m\n\u001b[0;32m      5\u001b[0m     \u001b[0mones\u001b[0m \u001b[1;33m=\u001b[0m \u001b[0mnp\u001b[0m\u001b[1;33m.\u001b[0m\u001b[0mones\u001b[0m\u001b[1;33m(\u001b[0m\u001b[0mlen\u001b[0m\u001b[1;33m(\u001b[0m\u001b[0mX\u001b[0m\u001b[1;33m)\u001b[0m\u001b[1;33m)\u001b[0m \u001b[1;31m#get m number of 1's for m x n 2D array\u001b[0m\u001b[1;33m\u001b[0m\u001b[1;33m\u001b[0m\u001b[0m\n\u001b[0;32m      6\u001b[0m     \u001b[0mX1\u001b[0m \u001b[1;33m=\u001b[0m \u001b[0mnp\u001b[0m\u001b[1;33m.\u001b[0m\u001b[0mc_\u001b[0m\u001b[1;33m[\u001b[0m\u001b[0mX\u001b[0m\u001b[1;33m,\u001b[0m\u001b[0mones\u001b[0m\u001b[1;33m]\u001b[0m \u001b[1;31m#add the 1's to the last column of 2D array\u001b[0m\u001b[1;33m\u001b[0m\u001b[1;33m\u001b[0m\u001b[0m\n\u001b[1;32m----> 7\u001b[1;33m     \u001b[0mw1\u001b[0m \u001b[1;33m=\u001b[0m \u001b[0mw\u001b[0m\u001b[1;33m.\u001b[0m\u001b[0mreshape\u001b[0m\u001b[1;33m(\u001b[0m\u001b[0mw\u001b[0m\u001b[1;33m.\u001b[0m\u001b[0mshape\u001b[0m\u001b[1;33m[\u001b[0m\u001b[1;36m0\u001b[0m\u001b[1;33m]\u001b[0m\u001b[1;33m,\u001b[0m\u001b[1;36m1\u001b[0m\u001b[1;33m)\u001b[0m\u001b[1;33m\u001b[0m\u001b[1;33m\u001b[0m\u001b[0m\n\u001b[0m\u001b[0;32m      8\u001b[0m     \u001b[0mt1\u001b[0m \u001b[1;33m=\u001b[0m \u001b[0mt\u001b[0m\u001b[1;33m.\u001b[0m\u001b[0mreshape\u001b[0m\u001b[1;33m(\u001b[0m\u001b[0mt\u001b[0m\u001b[1;33m.\u001b[0m\u001b[0mshape\u001b[0m\u001b[1;33m[\u001b[0m\u001b[1;36m0\u001b[0m\u001b[1;33m]\u001b[0m\u001b[1;33m,\u001b[0m\u001b[1;36m1\u001b[0m\u001b[1;33m)\u001b[0m\u001b[1;33m\u001b[0m\u001b[1;33m\u001b[0m\u001b[0m\n\u001b[0;32m      9\u001b[0m \u001b[1;33m\u001b[0m\u001b[0m\n",
      "\u001b[1;31mAttributeError\u001b[0m: 'list' object has no attribute 'reshape'"
     ]
    }
   ],
   "source": [
    "\n",
    "Lamda_temp = np.array([1e-5,1e-4,1e-3,1e-2,1e-1,1e-0,1e+1,1e+2,1e+3,1e+4,1e+5])\n",
    "\n",
    "val_NRMSE = []\n",
    "train_RMSE = []\n",
    "val_RMSE= []\n",
    "w_pseudo_new = []\n",
    "\n",
    "for lamda in Lamda_temp:\n",
    "    w_pseudo = Pseudo_Inverse(X,t,lamda)\n",
    "    train_RMSE.append(np.sqrt(MSE_Loss (X, t, w_pseudo, lamda =0))) \n",
    "    val_NRMSE.append(NRMSE_Metric(X_val, t_val, w_pseudo, lamda=0))\n",
    "    val_RMSE.append(np.sqrt(MSE_Loss (X_val, t_val, w_pseudo, lamda =0)))\n",
    "    w_pseudo_new.append(w_pseudo)\n",
    "\n"
   ]
  },
  {
   "cell_type": "code",
   "execution_count": 45,
   "metadata": {},
   "outputs": [
    {
     "name": "stdout",
     "output_type": "stream",
     "text": [
      "Lamda: 10.0\n",
      "val_RMSE:  1.4467290960989205\n"
     ]
    }
   ],
   "source": [
    "Ind = val_RMSE.index(min(val_RMSE))\n",
    "Lamda = Lamda_temp[Ind]\n",
    "print(\"Lamda:\", Lamda)\n",
    "print(\"val_RMSE: \",min(val_RMSE))"
   ]
  },
  {
   "cell_type": "code",
   "execution_count": 46,
   "metadata": {},
   "outputs": [
    {
     "data": {
      "image/png": "[encoded data removed]",
      "text/plain": [
       "<Figure size 432x288 with 1 Axes>"
      ]
     },
     "metadata": {
      "needs_background": "light"
     },
     "output_type": "display_data"
    }
   ],
   "source": [
    "Ind = val_RMSE.index(min(val_RMSE))\n",
    "Best_w = w_pseudo_new[Ind]\n",
    "y_pred = Prediction(X_val,Best_w)\n",
    "plt.plot(y_pred,t_val,'r*')\n",
    "plt.xlabel(\"Predicted Tmax\")\n",
    "plt.ylabel(\"actual Tmax\") \n",
    "plt.show()"
   ]
  },
  {
   "cell_type": "markdown",
   "metadata": {},
   "source": [
    "## MSE+lamda*L1(w)\n"
   ]
  },
  {
   "cell_type": "code",
   "execution_count": 153,
   "metadata": {},
   "outputs": [],
   "source": [
    "dataset_1 = dataset\n",
    "r = dataset.shape[0]\n",
    "np.random.seed(101)\n",
    "df_val = dataset.iloc[list(np.random.randint(r, size=int(r*0.2)))]\n",
    "df = dataset.drop(list(np.random.randint(r, size=int(r*0.2))),axis=0)\n",
    "\n",
    "t = df[\"Next_Tmax\"].to_numpy()\n",
    "t_val = df_val[\"Next_Tmax\"].to_numpy()\n",
    "X = Normalize(df.drop([\"Next_Tmax\"], axis=1).to_numpy())\n",
    "X_val = Normalize(df_val.drop([\"Next_Tmax\"], axis=1).to_numpy())"
   ]
  },
  {
   "cell_type": "code",
   "execution_count": 154,
   "metadata": {},
   "outputs": [
    {
     "ename": "ValueError",
     "evalue": "shapes (4991,22) and (1,22) not aligned: 22 (dim 1) != 1 (dim 0)",
     "output_type": "error",
     "traceback": [
      "\u001b[1;31m---------------------------------------------------------------------------\u001b[0m",
      "\u001b[1;31mValueError\u001b[0m                                Traceback (most recent call last)",
      "\u001b[1;32m<ipython-input-154-69f02c5fdedc>\u001b[0m in \u001b[0;36m<module>\u001b[1;34m()\u001b[0m\n\u001b[0;32m      7\u001b[0m \u001b[1;33m\u001b[0m\u001b[0m\n\u001b[0;32m      8\u001b[0m \u001b[1;32mwhile\u001b[0m \u001b[1;33m(\u001b[0m\u001b[0mi\u001b[0m \u001b[1;33m<\u001b[0m \u001b[0mlength\u001b[0m\u001b[1;33m)\u001b[0m\u001b[1;33m:\u001b[0m\u001b[1;33m\u001b[0m\u001b[1;33m\u001b[0m\u001b[0m\n\u001b[1;32m----> 9\u001b[1;33m     \u001b[0mw_result\u001b[0m\u001b[1;33m,\u001b[0m\u001b[0mt_final\u001b[0m\u001b[1;33m,\u001b[0m\u001b[0mvf\u001b[0m\u001b[1;33m,\u001b[0m\u001b[0mvn\u001b[0m\u001b[1;33m=\u001b[0m\u001b[0mGradient_Descent\u001b[0m\u001b[1;33m(\u001b[0m\u001b[0mX\u001b[0m\u001b[1;33m,\u001b[0m\u001b[0mX_val\u001b[0m\u001b[1;33m,\u001b[0m\u001b[0mt\u001b[0m\u001b[1;33m,\u001b[0m\u001b[0mt_val\u001b[0m\u001b[1;33m,\u001b[0m\u001b[0mw\u001b[0m\u001b[1;33m,\u001b[0m\u001b[0mLamda_temp\u001b[0m\u001b[1;33m[\u001b[0m\u001b[0mi\u001b[0m\u001b[1;33m]\u001b[0m\u001b[1;33m,\u001b[0m \u001b[1;36m10000\u001b[0m\u001b[1;33m,\u001b[0m \u001b[1;36m1e-1\u001b[0m\u001b[1;33m,\u001b[0m \u001b[1;36m0.00001\u001b[0m\u001b[1;33m,\u001b[0m\u001b[0mL2_Loss\u001b[0m\u001b[1;33m,\u001b[0m\u001b[0mL2_Gradient\u001b[0m\u001b[1;33m)\u001b[0m\u001b[1;33m\u001b[0m\u001b[1;33m\u001b[0m\u001b[0m\n\u001b[0m\u001b[0;32m     10\u001b[0m     \u001b[0mspecifications_df_temp\u001b[0m \u001b[1;33m=\u001b[0m \u001b[0mspecifications_df_temp\u001b[0m\u001b[1;33m.\u001b[0m\u001b[0mappend\u001b[0m\u001b[1;33m(\u001b[0m\u001b[1;33m{\u001b[0m\u001b[1;34m'RMSE_for_training'\u001b[0m\u001b[1;33m:\u001b[0m \u001b[0mt_final\u001b[0m\u001b[1;33m,\u001b[0m\u001b[1;34m'RMSE_for_validation'\u001b[0m\u001b[1;33m:\u001b[0m \u001b[0mvf\u001b[0m\u001b[1;33m,\u001b[0m\u001b[1;34m'w_for_L2'\u001b[0m\u001b[1;33m:\u001b[0m\u001b[0mw_result\u001b[0m\u001b[1;33m,\u001b[0m\u001b[1;34m'NRMSE_for_validation'\u001b[0m\u001b[1;33m:\u001b[0m\u001b[0mvn\u001b[0m\u001b[1;33m,\u001b[0m \u001b[1;34m\"Lamda\"\u001b[0m\u001b[1;33m:\u001b[0m \u001b[0mLamda_temp\u001b[0m\u001b[1;33m[\u001b[0m\u001b[0mi\u001b[0m\u001b[1;33m]\u001b[0m\u001b[1;33m}\u001b[0m\u001b[1;33m,\u001b[0m \u001b[0mignore_index\u001b[0m\u001b[1;33m=\u001b[0m\u001b[1;32mTrue\u001b[0m\u001b[1;33m)\u001b[0m\u001b[1;33m\u001b[0m\u001b[1;33m\u001b[0m\u001b[0m\n\u001b[0;32m     11\u001b[0m \u001b[1;33m\u001b[0m\u001b[0m\n",
      "\u001b[1;32m<ipython-input-38-583ca21c6cdb>\u001b[0m in \u001b[0;36mGradient_Descent\u001b[1;34m(X, X_val, t, t_val, w, lamda, max_iter, epsilon, lr, lossfunc, gradfunc)\u001b[0m\n\u001b[0;32m      7\u001b[0m \u001b[1;33m\u001b[0m\u001b[0m\n\u001b[0;32m      8\u001b[0m     \u001b[1;32mfor\u001b[0m \u001b[0mi\u001b[0m \u001b[1;32min\u001b[0m \u001b[0mrange\u001b[0m\u001b[1;33m(\u001b[0m\u001b[0mmax_iter\u001b[0m\u001b[1;33m)\u001b[0m\u001b[1;33m:\u001b[0m\u001b[1;33m\u001b[0m\u001b[1;33m\u001b[0m\u001b[0m\n\u001b[1;32m----> 9\u001b[1;33m         \u001b[0mgrad\u001b[0m \u001b[1;33m=\u001b[0m \u001b[0mgradfunc\u001b[0m\u001b[1;33m(\u001b[0m\u001b[0mX\u001b[0m\u001b[1;33m,\u001b[0m \u001b[0mt\u001b[0m\u001b[1;33m,\u001b[0m \u001b[0mw\u001b[0m\u001b[1;33m,\u001b[0m \u001b[0mlamda\u001b[0m\u001b[1;33m=\u001b[0m\u001b[0mlamda\u001b[0m\u001b[1;33m)\u001b[0m\u001b[1;33m\u001b[0m\u001b[1;33m\u001b[0m\u001b[0m\n\u001b[0m\u001b[0;32m     10\u001b[0m         \u001b[0mw\u001b[0m \u001b[1;33m=\u001b[0m \u001b[1;33m(\u001b[0m\u001b[0mw\u001b[0m \u001b[1;33m-\u001b[0m \u001b[1;33m(\u001b[0m\u001b[0mlr\u001b[0m\u001b[1;33m*\u001b[0m\u001b[0mgrad\u001b[0m\u001b[1;33m)\u001b[0m\u001b[1;33m)\u001b[0m\u001b[1;33m\u001b[0m\u001b[1;33m\u001b[0m\u001b[0m\n\u001b[0;32m     11\u001b[0m \u001b[1;33m\u001b[0m\u001b[0m\n",
      "\u001b[1;32m<ipython-input-21-b5b8e2762f65>\u001b[0m in \u001b[0;36mL2_Gradient\u001b[1;34m(X, t, w, lamda)\u001b[0m\n\u001b[0;32m      1\u001b[0m \u001b[1;32mdef\u001b[0m \u001b[0mL2_Gradient\u001b[0m \u001b[1;33m(\u001b[0m\u001b[0mX\u001b[0m\u001b[1;33m,\u001b[0m \u001b[0mt\u001b[0m\u001b[1;33m,\u001b[0m \u001b[0mw\u001b[0m\u001b[1;33m,\u001b[0m \u001b[0mlamda\u001b[0m\u001b[1;33m)\u001b[0m\u001b[1;33m:\u001b[0m \u001b[1;31m# Output should have the same size as w\u001b[0m\u001b[1;33m\u001b[0m\u001b[1;33m\u001b[0m\u001b[0m\n\u001b[0;32m      2\u001b[0m     \u001b[1;31m# YOUR CODE HERE\u001b[0m\u001b[1;33m\u001b[0m\u001b[1;33m\u001b[0m\u001b[1;33m\u001b[0m\u001b[0m\n\u001b[1;32m----> 3\u001b[1;33m     \u001b[0mMse_gradient\u001b[0m \u001b[1;33m=\u001b[0m \u001b[0mMSE_Gradient\u001b[0m \u001b[1;33m(\u001b[0m\u001b[0mX\u001b[0m\u001b[1;33m,\u001b[0m \u001b[0mt\u001b[0m\u001b[1;33m,\u001b[0m \u001b[0mw\u001b[0m\u001b[1;33m,\u001b[0m \u001b[0mlamda\u001b[0m\u001b[1;33m=\u001b[0m\u001b[1;36m0\u001b[0m\u001b[1;33m)\u001b[0m\u001b[1;33m\u001b[0m\u001b[1;33m\u001b[0m\u001b[0m\n\u001b[0m\u001b[0;32m      4\u001b[0m     \u001b[0mw1\u001b[0m \u001b[1;33m=\u001b[0m \u001b[0mw\u001b[0m\u001b[1;33m[\u001b[0m\u001b[1;33m:\u001b[0m\u001b[1;33m-\u001b[0m\u001b[1;36m1\u001b[0m\u001b[1;33m]\u001b[0m\u001b[1;33m\u001b[0m\u001b[1;33m\u001b[0m\u001b[0m\n\u001b[0;32m      5\u001b[0m     \u001b[0mtemp\u001b[0m \u001b[1;33m=\u001b[0m \u001b[1;33m(\u001b[0m\u001b[0mlamda\u001b[0m\u001b[1;33m/\u001b[0m\u001b[0mnp\u001b[0m\u001b[1;33m.\u001b[0m\u001b[0msqrt\u001b[0m\u001b[1;33m(\u001b[0m\u001b[1;33m(\u001b[0m\u001b[0mnp\u001b[0m\u001b[1;33m.\u001b[0m\u001b[0msquare\u001b[0m\u001b[1;33m(\u001b[0m\u001b[0mw1\u001b[0m\u001b[1;33m)\u001b[0m\u001b[1;33m)\u001b[0m\u001b[1;33m.\u001b[0m\u001b[0msum\u001b[0m\u001b[1;33m(\u001b[0m\u001b[1;33m)\u001b[0m\u001b[1;33m)\u001b[0m\u001b[1;33m)\u001b[0m\u001b[1;33m*\u001b[0m\u001b[0mw1\u001b[0m\u001b[1;33m\u001b[0m\u001b[1;33m\u001b[0m\u001b[0m\n",
      "\u001b[1;32m<ipython-input-17-63b3c5292ed9>\u001b[0m in \u001b[0;36mMSE_Gradient\u001b[1;34m(X, t, w, lamda)\u001b[0m\n\u001b[0;32m      1\u001b[0m \u001b[1;32mdef\u001b[0m \u001b[0mMSE_Gradient\u001b[0m \u001b[1;33m(\u001b[0m\u001b[0mX\u001b[0m\u001b[1;33m,\u001b[0m \u001b[0mt\u001b[0m\u001b[1;33m,\u001b[0m \u001b[0mw\u001b[0m\u001b[1;33m,\u001b[0m \u001b[0mlamda\u001b[0m\u001b[1;33m=\u001b[0m\u001b[1;36m0\u001b[0m\u001b[1;33m)\u001b[0m\u001b[1;33m:\u001b[0m \u001b[1;31m# Output should have the same size as w\u001b[0m\u001b[1;33m\u001b[0m\u001b[1;33m\u001b[0m\u001b[0m\n\u001b[0;32m      2\u001b[0m     \u001b[1;31m# YOUR CODE HERE\u001b[0m\u001b[1;33m\u001b[0m\u001b[1;33m\u001b[0m\u001b[1;33m\u001b[0m\u001b[0m\n\u001b[1;32m----> 3\u001b[1;33m     \u001b[0mY\u001b[0m \u001b[1;33m=\u001b[0m \u001b[0mPrediction\u001b[0m\u001b[1;33m(\u001b[0m\u001b[0mX\u001b[0m\u001b[1;33m,\u001b[0m\u001b[0mw\u001b[0m\u001b[1;33m)\u001b[0m\u001b[1;33m\u001b[0m\u001b[1;33m\u001b[0m\u001b[0m\n\u001b[0m\u001b[0;32m      4\u001b[0m \u001b[1;33m\u001b[0m\u001b[0m\n\u001b[0;32m      5\u001b[0m \u001b[1;33m\u001b[0m\u001b[0m\n",
      "\u001b[1;32m<ipython-input-5-f8ee971cf10e>\u001b[0m in \u001b[0;36mPrediction\u001b[1;34m(X, w)\u001b[0m\n\u001b[0;32m      7\u001b[0m     \u001b[0mones\u001b[0m \u001b[1;33m=\u001b[0m \u001b[0mnp\u001b[0m\u001b[1;33m.\u001b[0m\u001b[0mones\u001b[0m\u001b[1;33m(\u001b[0m\u001b[0mlen\u001b[0m\u001b[1;33m(\u001b[0m\u001b[0mX\u001b[0m\u001b[1;33m)\u001b[0m\u001b[1;33m)\u001b[0m \u001b[1;31m#get m number of 1's for m x n 2D array\u001b[0m\u001b[1;33m\u001b[0m\u001b[1;33m\u001b[0m\u001b[0m\n\u001b[0;32m      8\u001b[0m     \u001b[0mX\u001b[0m \u001b[1;33m=\u001b[0m \u001b[0mnp\u001b[0m\u001b[1;33m.\u001b[0m\u001b[0mc_\u001b[0m\u001b[1;33m[\u001b[0m\u001b[0mX\u001b[0m\u001b[1;33m,\u001b[0m\u001b[0mones\u001b[0m\u001b[1;33m]\u001b[0m \u001b[1;31m#add the 1's to the last column of 2D array\u001b[0m\u001b[1;33m\u001b[0m\u001b[1;33m\u001b[0m\u001b[0m\n\u001b[1;32m----> 9\u001b[1;33m     \u001b[0my\u001b[0m \u001b[1;33m=\u001b[0m \u001b[1;33m(\u001b[0m\u001b[0mnp\u001b[0m\u001b[1;33m.\u001b[0m\u001b[0mdot\u001b[0m\u001b[1;33m(\u001b[0m\u001b[0mX\u001b[0m\u001b[1;33m,\u001b[0m\u001b[0mw\u001b[0m\u001b[1;33m)\u001b[0m\u001b[1;33m)\u001b[0m\u001b[1;33m\u001b[0m\u001b[1;33m\u001b[0m\u001b[0m\n\u001b[0m\u001b[0;32m     10\u001b[0m \u001b[1;33m\u001b[0m\u001b[0m\n\u001b[0;32m     11\u001b[0m     \u001b[1;32mreturn\u001b[0m \u001b[0my\u001b[0m \u001b[1;31m#return the prediction vector y\u001b[0m\u001b[1;33m\u001b[0m\u001b[1;33m\u001b[0m\u001b[0m\n",
      "\u001b[1;32m<__array_function__ internals>\u001b[0m in \u001b[0;36mdot\u001b[1;34m(*args, **kwargs)\u001b[0m\n",
      "\u001b[1;31mValueError\u001b[0m: shapes (4991,22) and (1,22) not aligned: 22 (dim 1) != 1 (dim 0)"
     ]
    }
   ],
   "source": [
    "i=0\n",
    "Lamda_temp = np.array([1e-5,1e-4,1e-3,1e-2,1e-1,1e-0,1e+1,1e+2,1e+3,1e+4,1e+5])\n",
    "length = len(Lamda_temp)\n",
    "specifications =['RMSE_for_training','RMSE_for_validation','w_for_L2','NRMSE_for_validation', \"Lamda\"]\n",
    "specifications_df_temp = pd.DataFrame(columns=specifications)\n",
    "\n",
    "\n",
    "while (i < length):\n",
    "    w_result,t_final,vf,vn=Gradient_Descent(X,X_val,t,t_val,w,Lamda_temp[i], 10000, 1e-1, 0.00001,L2_Loss,L2_Gradient)\n",
    "    specifications_df_temp = specifications_df_temp.append({'RMSE_for_training': t_final,'RMSE_for_validation': vf,'w_for_L2':w_result,'NRMSE_for_validation':vn, \"Lamda\": Lamda_temp[i]}, ignore_index=True)\n",
    "\n",
    "    i = i +1\n"
   ]
  },
  {
   "cell_type": "code",
   "execution_count": 148,
   "metadata": {},
   "outputs": [
    {
     "name": "stdout",
     "output_type": "stream",
     "text": [
      "Lamda : [100.]\n",
      "Validation RMSE : 2.092422056304974\n"
     ]
    }
   ],
   "source": [
    "min_val_rmse = specifications_df_temp['RMSE_for_validation'].min()\n",
    "Index_min_val_rmse = specifications_df_temp[specifications_df_temp['RMSE_for_validation']==min_val_rmse].index.values\n",
    "print(\"Lamda :\", specifications_df_temp['Lamda'][Index_min_val_rmse].to_numpy())\n",
    "specifications_df_temp['Lamda']\n",
    "print(\"Validation RMSE :\", min_val_rmse)"
   ]
  },
  {
   "cell_type": "code",
   "execution_count": 149,
   "metadata": {},
   "outputs": [
    {
     "data": {
      "image/png": "[encoded data removed]",
      "text/plain": [
       "<Figure size 432x288 with 1 Axes>"
      ]
     },
     "metadata": {
      "needs_background": "light"
     },
     "output_type": "display_data"
    }
   ],
   "source": [
    "\n",
    "\n",
    "W =w = list(specifications_df_temp['w_for_L2'][Index_min_val_rmse].to_numpy().flat)\n",
    "Best_w = Best_w[0]\n",
    "y_pred = Prediction(X_val,Best_w)\n",
    "plt.plot(y_pred,t_val,'r*')\n",
    "plt.xlabel(\"Predicted Tmax\")\n",
    "plt.ylabel(\"actual Tmax\") \n",
    "plt.show()"
   ]
  },
  {
   "cell_type": "code",
   "execution_count": 150,
   "metadata": {},
   "outputs": [
    {
     "ename": "AttributeError",
     "evalue": "'list' object has no attribute 'shape'",
     "output_type": "error",
     "traceback": [
      "\u001b[1;31m---------------------------------------------------------------------------\u001b[0m",
      "\u001b[1;31mAttributeError\u001b[0m                            Traceback (most recent call last)",
      "\u001b[1;32m<ipython-input-150-2169b65baa5e>\u001b[0m in \u001b[0;36m<module>\u001b[1;34m()\u001b[0m\n\u001b[0;32m      1\u001b[0m \u001b[0mtemp\u001b[0m \u001b[1;33m=\u001b[0m \u001b[0mlist\u001b[0m\u001b[1;33m(\u001b[0m\u001b[0mspecifications_df_temp\u001b[0m\u001b[1;33m[\u001b[0m\u001b[1;34m'w_for_L2'\u001b[0m\u001b[1;33m]\u001b[0m\u001b[1;33m[\u001b[0m\u001b[0mIndex_min_val_rmse\u001b[0m\u001b[1;33m]\u001b[0m\u001b[1;33m.\u001b[0m\u001b[0mto_numpy\u001b[0m\u001b[1;33m(\u001b[0m\u001b[1;33m)\u001b[0m\u001b[1;33m.\u001b[0m\u001b[0mflat\u001b[0m\u001b[1;33m)\u001b[0m\u001b[1;33m\u001b[0m\u001b[1;33m\u001b[0m\u001b[0m\n\u001b[1;32m----> 2\u001b[1;33m \u001b[0mb\u001b[0m \u001b[1;33m=\u001b[0m \u001b[0mnp\u001b[0m\u001b[1;33m.\u001b[0m\u001b[0mreshape\u001b[0m\u001b[1;33m(\u001b[0m\u001b[0mtemp\u001b[0m\u001b[1;33m,\u001b[0m \u001b[1;33m(\u001b[0m\u001b[0mnp\u001b[0m\u001b[1;33m.\u001b[0m\u001b[0mproduct\u001b[0m\u001b[1;33m(\u001b[0m\u001b[0mtemp\u001b[0m\u001b[1;33m.\u001b[0m\u001b[0mshape\u001b[0m\u001b[1;33m)\u001b[0m\u001b[1;33m,\u001b[0m\u001b[1;33m)\u001b[0m\u001b[1;33m)\u001b[0m\u001b[1;33m\u001b[0m\u001b[1;33m\u001b[0m\u001b[0m\n\u001b[0m",
      "\u001b[1;31mAttributeError\u001b[0m: 'list' object has no attribute 'shape'"
     ]
    }
   ],
   "source": [
    "temp = list(specifications_df_temp['w_for_L2'][Index_min_val_rmse].to_numpy().flat)\n",
    "b = np.reshape(temp, (np.product(temp.shape),))"
   ]
  },
  {
   "cell_type": "code",
   "execution_count": 137,
   "metadata": {},
   "outputs": [],
   "source": [
    "w1 = np.array([2,1,1]) "
   ]
  },
  {
   "cell_type": "code",
   "execution_count": 142,
   "metadata": {},
   "outputs": [
    {
     "data": {
      "text/plain": [
       "array([ 5.07769381e-01,  1.58061561e-01,  3.58961416e-01, -1.03450504e-01,\n",
       "        1.75244669e+00,  2.42786069e-01, -3.96485286e-01,  2.58223973e-01,\n",
       "       -3.12867063e-01, -2.03669357e-01, -1.55562145e-01, -2.40061131e-01,\n",
       "       -6.59715009e-02,  1.71233503e-01, -1.78184528e-02, -2.31068132e-02,\n",
       "       -5.07038833e-02, -1.32148057e-01, -2.20298388e-01,  2.84834380e-01,\n",
       "        6.96641566e-02,  3.02623122e+01])"
      ]
     },
     "execution_count": 142,
     "metadata": {},
     "output_type": "execute_result"
    }
   ],
   "source": [
    "temp[0]"
   ]
  },
  {
   "cell_type": "markdown",
   "metadata": {},
   "source": [
    "# "
   ]
  }
 ],
 "metadata": {
  "kernelspec": {
   "display_name": "Python 3",
   "language": "python",
   "name": "python3"
  },
  "language_info": {
   "codemirror_mode": {
    "name": "ipython",
    "version": 3
   },
   "file_extension": ".py",
   "mimetype": "text/x-python",
   "name": "python",
   "nbconvert_exporter": "python",
   "pygments_lexer": "ipython3",
   "version": "3.7.13"
  }
 },
 "nbformat": 4,
 "nbformat_minor": 4
}
